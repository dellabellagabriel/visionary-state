{
 "cells": [
  {
   "cell_type": "code",
   "execution_count": null,
   "metadata": {},
   "outputs": [],
   "source": [
    "import numpy as np\n",
    "import matplotlib.pyplot as plt\n",
    "import networkx as nx\n",
    "import pandas as pd\n",
    "import scipy.io as sio\n",
    "import statsmodels.api as sm\n",
    "import statsmodels.formula.api as smf\n",
    "import warnings\n",
    "from nilearn.maskers import NiftiMasker\n",
    "from nilearn import datasets\n",
    "from nilearn.connectome import ConnectivityMeasure\n",
    "from nilearn.maskers import MultiNiftiLabelsMasker\n",
    "from nilearn import plotting\n",
    "from statsmodels.stats.multitest import fdrcorrection\n",
    "from tqdm import tqdm"
   ]
  },
  {
   "cell_type": "code",
   "execution_count": null,
   "metadata": {},
   "outputs": [],
   "source": [
    "colors = np.array([\n",
    "    \"#FF0000\",  # Red DMN\n",
    "    \"#00FF00\",  # Green VIS\n",
    "    \"#0000FF\",  # Blue FP\n",
    "    \"#FFFF00\",  # Yellow Reward\n",
    "    \"#FF00FF\",  # Magenta DA\n",
    "    \"#00000000\",  # nan\n",
    "    \"#00FFFF\",  # Cyan VA\n",
    "    \"#800080\",  # Purple SN\n",
    "    \"#FFA500\",  # Orange CO\n",
    "    \"#008000\",  # Dark Green SM Dorsal\n",
    "    \"#800000\",  # Maroon SM Lateral\n",
    "    \"#008080\",  # Teal AUD\n",
    "    \"#00000000\",  # nan\n",
    "    \"#00000000\",  # nan\n",
    "    \"#000080\",  # Navy ParietoMedial\n",
    "    \"#00000000\",  # nan\n",
    "    \"#FFD700\",  # Gold Medial Temporal Lobe\n",
    "    \"#00000000\",  # nan\n",
    "])\n",
    "\n",
    "func_network_affiliation = np.loadtxt(\"/home/usuario/disco1/proyectos/2023-resting-state-estados-fMRI_conn/scripts/func_networks/masks/ROIs_300inVol_MNI/ROIs_CommunityAffiliation.txt\").astype(int)\n",
    "coordinates = np.loadtxt(\"/home/usuario/disco1/proyectos/2023-resting-state-estados-fMRI_conn/scripts/func_networks/masks/ROIs_300inVol_MNI/coords_300.csv\", delimiter=\",\", dtype=float)\n",
    "connectivity = sio.loadmat(f\"/home/usuario/disco1/proyectos/2023-resting-state-estados-fMRI_conn/results/connectivity/300/connectivity_2.mat\")[\"C_net_2\"]\n",
    "\n",
    "network_names = {5: \"DA\", 17: \"MTL\", 1: \"DMN\", 4: \"Rew\", 8: \"SN\", 3: \"FP\", 10: \"SMD\", 11: \"SML\", 7: \"VA\", 9: \"CO\", 2: \"VIS\", 12: \"AUD\", 15: \"PM\"}"
   ]
  },
  {
   "cell_type": "code",
   "execution_count": null,
   "metadata": {},
   "outputs": [],
   "source": [
    "def calc_roi_stats(csv_path):\n",
    "    df = pd.read_csv(csv_path)\n",
    "    df['roi'] = df['roi'].astype('category')\n",
    "    df['session'] = df['session'].astype('category')\n",
    "    \n",
    "    md = smf.mixedlm(\"difference ~ roi - 1\", df, groups=df[\"session\"])\n",
    "    mdf = md.fit()\n",
    "    mdf.summary()\n",
    "\n",
    "    all_data = pd.DataFrame({\"pvalues\": mdf.pvalues[:-1], \"tvalues\": mdf.tvalues[:-1], \"roi\": np.arange(1,300+1)})\n",
    "    significant_data = all_data[all_data[\"pvalues\"] < 0.05]\n",
    "    \n",
    "    significant_positive = significant_data[significant_data[\"tvalues\"] > 0]\n",
    "    significant_negative = significant_data[significant_data[\"tvalues\"] < 0]\n",
    "\n",
    "    rois_positive = np.array(significant_positive[\"roi\"].tolist())\n",
    "    rois_negative = np.array(significant_negative[\"roi\"].tolist())\n",
    "\n",
    "    corr_positive = np.zeros((len(rois_positive), len(rois_positive)))\n",
    "    corr_negative = np.zeros((len(rois_negative), len(rois_negative)))\n",
    "\n",
    "    if len(significant_positive) == 0:\n",
    "        warnings.warn(\"Warning: No significant positive ROIs found\")\n",
    "    if len(significant_negative) == 0:\n",
    "        warnings.warn(\"Warning: No significant negative ROIs found\")\n",
    "\n",
    "    p_values = np.array(all_data[\"pvalues\"].tolist())\n",
    "    h, pcorregido = fdrcorrection(p_values, alpha=0.05, method=\"indep\", is_sorted=False)\n",
    "    indices = np.where(h)[0]\n",
    "    new_data = all_data.iloc[indices]\n",
    "    new_positive = np.array(new_data[new_data[\"tvalues\"] > 0][\"roi\"].tolist())\n",
    "    new_negative = np.array(new_data[new_data[\"tvalues\"] < 0][\"roi\"].tolist())\n",
    "\n",
    "    if len(new_positive) == 0:\n",
    "        warnings.warn(\"There are no positive values\")\n",
    "    if len(new_negative) == 0:\n",
    "        warnings.warn(\"There are no negative values\")\n",
    "\n",
    "    return new_positive, new_negative\n",
    "\n",
    "def plot_rois(r, display_mode=\"ortho\", output_file=\"\"):\n",
    "    NODE_SIZE = 700\n",
    "    fig, ax = plt.subplots(1, figsize=(8,8))\n",
    "    plt.axis(\"off\")\n",
    "    plotting.plot_connectome(\n",
    "        np.zeros((len(r), len(r))),\n",
    "        coordinates[r-1],\n",
    "        edge_threshold=\"95%\",\n",
    "        node_color=colors[func_network_affiliation[r-1]-1],\n",
    "        display_mode=display_mode,\n",
    "        node_size=NODE_SIZE,\n",
    "        annotate=False,\n",
    "        figure=fig\n",
    "    )\n",
    "\n",
    "    plt.savefig(output_file)\n",
    "\n",
    "def plot_prob_points(*args, facecolors=None, alpha=None, capsize=10, elinewidth=10, capthick=6, dot_size=400, yticks=None, ytickslabels=None, ymin=None, ymax=None, random_state=10, zero_line=False, edge_color=\"none\"):\n",
    "    np.random.seed(random_state)\n",
    "    SPREAD_LENGTH = 0.1\n",
    "    \n",
    "    x_list = np.arange(1.0, 1.0+0.5*len(args), 0.5)\n",
    "    y_list = list(map(lambda x: x.mean(), args))\n",
    "    error_list = list(map(lambda x: x.std()/np.sqrt(len(x)), args))\n",
    "    spread_list = x_list - SPREAD_LENGTH/2.0\n",
    "    \n",
    "    # create points for means and standard errors\n",
    "    fig, ax = plt.subplots(1,1, figsize=(10,10))\n",
    "    ax.errorbar(x_list, y_list, error_list, ls=\"none\", capsize=capsize, elinewidth=elinewidth, capthick=capthick, ecolor=\"black\")\n",
    "    ax.scatter(x_list, y_list, s=dot_size, c=\"black\", zorder=10)\n",
    "    \n",
    "    if facecolors is None:\n",
    "        facecolors = np.repeat(\"#cccccc\", len(args))\n",
    "    if alpha is None:\n",
    "        alpha = np.repeat(0.5, len(args))\n",
    "\n",
    "    if type(facecolors) == str:\n",
    "        facecolors = np.repeat(facecolors, len(args))\n",
    "    if type(alpha) == float or type(alpha) == int:\n",
    "        alpha = np.repeat(alpha, len(args))\n",
    "    \n",
    "    if zero_line:\n",
    "        ax.plot([1.0-0.4, max(x_list)+0.4], [0, 0], c=\"#cccccc\", linestyle=\"dashed\", linewidth=elinewidth, zorder=0)\n",
    "\n",
    "    # draw each point\n",
    "    for i, arg in enumerate(args):\n",
    "        ax.scatter(\n",
    "            np.random.rand(len(arg))*SPREAD_LENGTH + spread_list[i], \n",
    "            arg, \n",
    "            c=facecolors[i], \n",
    "            edgecolors=edge_color, \n",
    "            s=dot_size, \n",
    "            alpha=alpha[i],\n",
    "            zorder=0\n",
    "        )\n",
    "\n",
    "\n",
    "    ax.set_xlim([1.0-0.4, max(x_list)+0.4])\n",
    "    ax.set_xticks(x_list, np.repeat(\"\", len(args)))\n",
    "    ax.spines[['right', 'top']].set_visible(False)\n",
    "    plt.setp(ax.spines.values(), linewidth=8)\n",
    "    \n",
    "    if ymin and ymax:\n",
    "        ax.set_ylim([ymin, ymax])\n",
    "    \n",
    "    if yticks:\n",
    "        if ytickslabels:\n",
    "            ax.set_yticks(yticks, ytickslabels)\n",
    "        else:\n",
    "            ax.set_yticks(yticks)"
   ]
  },
  {
   "cell_type": "code",
   "execution_count": null,
   "metadata": {},
   "outputs": [],
   "source": [
    "rois_positive_trans, rois_negative_trans = calc_roi_stats(f\"/home/usuario/disco1/proyectos/2023-resting-state-estados-fMRI_conn/scripts/statistics/tables_for_model/trans_data.csv\")\n",
    "rois_positive_alter, rois_negative_alter = calc_roi_stats(f\"/home/usuario/disco1/proyectos/2023-resting-state-estados-fMRI_conn/scripts/statistics/tables_for_model/alter_data.csv\")\n",
    "rois_positive_recup, rois_negative_recup = calc_roi_stats(f\"/home/usuario/disco1/proyectos/2023-resting-state-estados-fMRI_conn/scripts/statistics/tables_for_model/recup_data.csv\")\n"
   ]
  },
  {
   "cell_type": "code",
   "execution_count": null,
   "metadata": {},
   "outputs": [],
   "source": [
    "def bootstrap_rois(condicion: str, rois):\n",
    "    condiciones = {\"trans\": 1, \"alter\": 2, \"recup\": 3}\n",
    "    index = condiciones[condicion]\n",
    "\n",
    "    REMOVE_REPOSO = 7-1\n",
    "    REMOVE_ALTERACION = 5-1\n",
    "    MAIN_DIR = \"/home/usuario/disco1/proyectos/2023-resting-state-estados-fMRI_conn\"\n",
    "    connectivity_regions = sio.loadmat(f\"{MAIN_DIR}/results/connectivity/300/connectivity_300.mat\")[\"C\"]\n",
    "    connectivity_regions_controles = sio.loadmat(f\"{MAIN_DIR}/results/connectivity/300_controles/connectivity_300.mat\")[\"C\"]\n",
    "\n",
    "    connectivity_regions[:,:,np.eye(300).astype(bool)] = np.nan\n",
    "    connectivity_regions = np.nanmean(connectivity_regions[:,:,12:,12:], axis=3)\n",
    "    connectivity_regions_condition = connectivity_regions[:, index, :]-connectivity_regions[:, 0, :]\n",
    "    connectivity_regions_rois = np.nanmean(connectivity_regions_condition[:,rois], axis=1)\n",
    "\n",
    "    connectivity_regions_controles[:,:,np.eye(300).astype(bool)] = np.nan\n",
    "    connectivity_regions_controles = np.nanmean(connectivity_regions_controles[:,:,12:,12:], axis=3)\n",
    "    connectivity_regions_controles[REMOVE_REPOSO, 0, :] = np.nan\n",
    "    connectivity_regions_controles[REMOVE_ALTERACION, 2, :] = np.nan\n",
    "    connectivity_regions_controles_condition = connectivity_regions_controles[:, index, :]-connectivity_regions_controles[:, 0, :]\n",
    "    connectivity_regions_controles_rois = np.nanmean(connectivity_regions_controles_condition[:,rois], axis=1)\n",
    "\n",
    "    N_perm = 50_000\n",
    "    d_list_variacion = np.zeros(N_perm)\n",
    "    for perm in tqdm(range(N_perm)):\n",
    "        sampleo_controles = np.random.choice(connectivity_regions_controles_rois, 20)\n",
    "        data_variacion = np.hstack((sampleo_controles, connectivity_regions_rois))\n",
    "        np.random.shuffle(data_variacion)\n",
    "        d_variacion = np.nanmean(data_variacion[0:20]) - np.nanmean(data_variacion[20:40])\n",
    "        d_list_variacion[perm] = d_variacion\n",
    "\n",
    "    x_variacion = np.nanmean(connectivity_regions_controles_rois) - np.nanmean(connectivity_regions_rois)\n",
    "\n",
    "    p_variacion = np.sum(d_list_variacion > np.abs(x_variacion))/len(d_list_variacion)\n",
    "    \n",
    "    return p_variacion, x_variacion"
   ]
  },
  {
   "cell_type": "code",
   "execution_count": null,
   "metadata": {},
   "outputs": [],
   "source": [
    "p1, x1 = bootstrap_rois(\"trans\", rois_negative_trans-12)\n",
    "p2, x2 = bootstrap_rois(\"alter\", rois_positive_alter-12)\n",
    "p3, x3 = bootstrap_rois(\"alter\", rois_negative_alter-12)\n",
    "p_alter = bootstrap_rois(\"alter\", np.hstack((rois_positive_alter-12,rois_negative_alter-12)))\n",
    "p4, x4 = bootstrap_rois(\"recup\", rois_positive_recup-12)\n",
    "p5, x5 = bootstrap_rois(\"recup\", rois_negative_recup-12)\n",
    "p_recup = bootstrap_rois(\"recup\", np.hstack((rois_positive_recup-12,rois_negative_recup-12)))\n",
    "\n",
    "p1, p2, p3, p4, p5, p_alter, p_recup"
   ]
  },
  {
   "cell_type": "code",
   "execution_count": null,
   "metadata": {},
   "outputs": [],
   "source": [
    "p_values = np.array([p1, p2, p3, p4, p5])\n",
    "h, pcorregido = fdrcorrection(p_values, alpha=0.05, method=\"indep\", is_sorted=False)\n",
    "\n",
    "h, pcorregido"
   ]
  },
  {
   "cell_type": "markdown",
   "metadata": {},
   "source": [
    "#### bootstrap"
   ]
  },
  {
   "cell_type": "code",
   "execution_count": null,
   "metadata": {},
   "outputs": [],
   "source": [
    "def bootstrap_red(condicion: str, network: int):\n",
    "    condiciones = {\"trans\": 1, \"alter\": 2, \"recup\": 3}\n",
    "    index = condiciones[condicion]\n",
    "\n",
    "    REMOVE_REPOSO = 7-1\n",
    "    REMOVE_ALTERACION = 5-1\n",
    "    MAIN_DIR = \"/home/usuario/disco1/proyectos/2023-resting-state-estados-fMRI_conn\"\n",
    "    connectivity_controles = sio.loadmat(f\"{MAIN_DIR}/results/connectivity/300_controles/connectivity_2.mat\")[\"C_net_2\"]\n",
    "    connectivity = sio.loadmat(f\"{MAIN_DIR}/results/connectivity/300/connectivity_2.mat\")[\"C_net_2\"]\n",
    "\n",
    "    connectivity = connectivity[:,:,0:13,0:13]\n",
    "    connectivity_controles = connectivity_controles[:,:,0:13,0:13]\n",
    "    connectivity[:,:,np.eye(13).astype(bool)] = np.nan\n",
    "    connectivity_controles[:,:,np.eye(13).astype(bool)] = np.nan\n",
    "    connectivity_controles[REMOVE_REPOSO, 0] = np.nan\n",
    "    connectivity_controles[REMOVE_ALTERACION, 2] = np.nan\n",
    "    connectivity_controles[REMOVE_REPOSO, 0] = np.nan\n",
    "    connectivity_controles[REMOVE_ALTERACION, 2] = np.nan\n",
    "\n",
    "    variacion = np.zeros((20,4))\n",
    "    variacion_controles = np.zeros((10,4))\n",
    "    for iSess in range(20):\n",
    "        for iCond in range(4):\n",
    "            variacion[iSess,iCond] = np.nanmean(connectivity[iSess, iCond, network, :])\n",
    "\n",
    "    for iSess in range(10):\n",
    "        for iCond in range(4):\n",
    "            variacion_controles[iSess,iCond] = np.nanmean(connectivity_controles[iSess, iCond, network, :])\n",
    "\n",
    "    variacion_diff = variacion[:,index] - variacion[:,0]\n",
    "    variacion_controles_diff = variacion_controles[:,index] - variacion_controles[:,0]\n",
    "    variacion_controles_diff_condicion = variacion_controles_diff[~np.isnan(variacion_controles_diff)]\n",
    "\n",
    "    N_perm = 50_000\n",
    "    d_list_variacion = np.zeros(N_perm)\n",
    "    for perm in tqdm(range(N_perm)):\n",
    "        sampleo_controles = np.random.choice(variacion_controles_diff_condicion, 20)\n",
    "        data_variacion = np.hstack((sampleo_controles, variacion_diff))\n",
    "        np.random.shuffle(data_variacion)\n",
    "        d_variacion = np.nanmean(data_variacion[0:20]) - np.nanmean(data_variacion[20:40])\n",
    "        d_list_variacion[perm] = d_variacion\n",
    "\n",
    "    x_variacion = np.nanmean(variacion_controles_diff) - np.nanmean(variacion_diff)\n",
    "\n",
    "    p_variacion = np.sum(d_list_variacion > np.abs(x_variacion))/len(d_list_variacion)\n",
    "    \n",
    "    return p_variacion, variacion, variacion_controles"
   ]
  },
  {
   "cell_type": "code",
   "execution_count": null,
   "metadata": {},
   "outputs": [],
   "source": [
    "p1, _, _ = bootstrap_red(\"trans\", network=6)\n",
    "p2, _, _ = bootstrap_red(\"alter\", network=6)\n",
    "p3, _, _ = bootstrap_red(\"recup\", network=6)\n",
    "\n",
    "p_values = np.array([p1, p2, p3])\n",
    "h, pcorregido = fdrcorrection(p_values, alpha=0.05, method=\"indep\", is_sorted=False)\n",
    "\n",
    "h, pcorregido"
   ]
  },
  {
   "cell_type": "markdown",
   "metadata": {},
   "source": [
    "#### Plot conectividad global por red"
   ]
  },
  {
   "cell_type": "code",
   "execution_count": null,
   "metadata": {},
   "outputs": [],
   "source": [
    "plot_prob_points(\n",
    "    connectivity[:, 0, 1, :].mean(axis=1), \n",
    "    connectivity[:, 1, 1, :].mean(axis=1), \n",
    "    connectivity[:, 2, 1, :].mean(axis=1), \n",
    "    connectivity[:, 3, 1, :].mean(axis=1), \n",
    "    facecolors=\"#00FF00\", \n",
    "    alpha=0.5,\n",
    "    capsize=5, \n",
    "    elinewidth=5, \n",
    "    capthick=5,\n",
    "    dot_size=500,\n",
    "    zero_line=True,\n",
    "    edge_color=\"black\",\n",
    "    yticks=[-0.02, 0.000, 0.02, 0.04, 0.06, 0.08, 0.10],\n",
    "    ytickslabels=[\"-0.02\", \"0.00\", \"0.02\", \"0.04\", \"0.06\", \"0.08\", \"0.10\"]\n",
    ")\n",
    "\n",
    "plt.rcParams.update({'font.size': 40})\n",
    "plt.tight_layout()\n",
    "plt.savefig(f\"/home/usuario/disco1/proyectos/2023-resting-state-estados-fMRI_conn/scripts/figuras-finales/conectividad-rois/figuras/avp_visual.png\")"
   ]
  },
  {
   "cell_type": "code",
   "execution_count": null,
   "metadata": {},
   "outputs": [],
   "source": [
    "plot_prob_points(\n",
    "    connectivity[:, 0, 2, :].mean(axis=1), \n",
    "    connectivity[:, 1, 2, :].mean(axis=1), \n",
    "    connectivity[:, 2, 2, :].mean(axis=1), \n",
    "    connectivity[:, 3, 2, :].mean(axis=1), \n",
    "    facecolors=\"#0000ff\", \n",
    "    alpha=0.5,\n",
    "    capsize=5, \n",
    "    elinewidth=5, \n",
    "    capthick=5,\n",
    "    dot_size=500,\n",
    "    zero_line=True,\n",
    "    edge_color=\"black\"\n",
    ")\n",
    "\n",
    "plt.rcParams.update({'font.size': 40})\n",
    "plt.tight_layout()\n",
    "plt.savefig(f\"/home/usuario/disco1/proyectos/2023-resting-state-estados-fMRI_conn/scripts/figuras-finales/conectividad-rois/figuras/avp_fp.png\")"
   ]
  },
  {
   "cell_type": "code",
   "execution_count": null,
   "metadata": {},
   "outputs": [],
   "source": [
    "plot_prob_points(\n",
    "    connectivity[:, 0, 6, :].mean(axis=1), \n",
    "    connectivity[:, 1, 6, :].mean(axis=1), \n",
    "    connectivity[:, 2, 6, :].mean(axis=1), \n",
    "    connectivity[:, 3, 6, :].mean(axis=1), \n",
    "    facecolors=\"#800080\", \n",
    "    alpha=0.5,\n",
    "    capsize=5, \n",
    "    elinewidth=5, \n",
    "    capthick=5,\n",
    "    dot_size=500,\n",
    "    zero_line=True,\n",
    "    edge_color=\"black\"\n",
    ")\n",
    "\n",
    "plt.rcParams.update({'font.size': 40})\n",
    "plt.tight_layout()\n",
    "plt.savefig(f\"/home/usuario/disco1/proyectos/2023-resting-state-estados-fMRI_conn/scripts/figuras-finales/conectividad-rois/figuras/avp_sn.png\")"
   ]
  },
  {
   "cell_type": "code",
   "execution_count": null,
   "metadata": {},
   "outputs": [],
   "source": [
    "plot_prob_points(\n",
    "    connectivity[:, 0, 5, :].mean(axis=1), \n",
    "    connectivity[:, 1, 5, :].mean(axis=1), \n",
    "    connectivity[:, 2, 5, :].mean(axis=1), \n",
    "    connectivity[:, 3, 5, :].mean(axis=1), \n",
    "    facecolors=\"#00FFFF\", \n",
    "    alpha=0.50,\n",
    "    capsize=5, \n",
    "    elinewidth=5, \n",
    "    capthick=5,\n",
    "    dot_size=500,\n",
    "    zero_line=True,\n",
    "    edge_color=\"black\"\n",
    ")\n",
    "\n",
    "plt.rcParams.update({'font.size': 40})\n",
    "plt.tight_layout()\n",
    "plt.savefig(f\"/home/usuario/disco1/proyectos/2023-resting-state-estados-fMRI_conn/scripts/figuras-finales/conectividad-rois/figuras/avp_va.png\")"
   ]
  },
  {
   "cell_type": "code",
   "execution_count": null,
   "metadata": {},
   "outputs": [],
   "source": [
    "plot_prob_points(\n",
    "    connectivity[:, 0, 8, :].mean(axis=1), \n",
    "    connectivity[:, 1, 8, :].mean(axis=1), \n",
    "    connectivity[:, 2, 8, :].mean(axis=1), \n",
    "    connectivity[:, 3, 8, :].mean(axis=1), \n",
    "    facecolors=\"#008000\", \n",
    "    alpha=0.50,\n",
    "    capsize=5, \n",
    "    elinewidth=5, \n",
    "    capthick=5,\n",
    "    dot_size=500,\n",
    "    zero_line=True,\n",
    "    edge_color=\"black\"\n",
    ")\n",
    "\n",
    "plt.rcParams.update({'font.size': 40})\n",
    "plt.tight_layout()\n",
    "plt.savefig(f\"/home/usuario/disco1/proyectos/2023-resting-state-estados-fMRI_conn/scripts/figuras-finales/conectividad-rois/figuras/avp_smd.png\")"
   ]
  },
  {
   "cell_type": "markdown",
   "metadata": {},
   "source": [
    "#### Plot ROIs alteracion"
   ]
  },
  {
   "cell_type": "code",
   "execution_count": null,
   "metadata": {},
   "outputs": [],
   "source": [
    "plot_rois(rois_positive_alter, display_mode=\"z\", output_file=\"/home/usuario/disco1/proyectos/2023-resting-state-estados-fMRI_conn/scripts/figuras-finales/conectividad-rois/figuras/altered_positive_z.eps\")"
   ]
  },
  {
   "cell_type": "code",
   "execution_count": null,
   "metadata": {},
   "outputs": [],
   "source": [
    "plot_rois(rois_positive_alter, display_mode=\"x\", output_file=\"/home/usuario/disco1/proyectos/2023-resting-state-estados-fMRI_conn/scripts/figuras-finales/conectividad-rois/figuras/altered_positive_x.eps\")"
   ]
  },
  {
   "cell_type": "code",
   "execution_count": null,
   "metadata": {},
   "outputs": [],
   "source": [
    "plot_rois(rois_positive_alter, display_mode=\"y\", output_file=\"/home/usuario/disco1/proyectos/2023-resting-state-estados-fMRI_conn/scripts/figuras-finales/conectividad-rois/figuras/altered_positive_y.eps\")"
   ]
  },
  {
   "cell_type": "code",
   "execution_count": null,
   "metadata": {},
   "outputs": [],
   "source": [
    "plot_rois(rois_negative_alter, display_mode=\"z\", output_file=\"/home/usuario/disco1/proyectos/2023-resting-state-estados-fMRI_conn/scripts/figuras-finales/conectividad-rois/figuras/altered_negative_z.eps\")"
   ]
  },
  {
   "cell_type": "code",
   "execution_count": null,
   "metadata": {},
   "outputs": [],
   "source": [
    "plot_rois(rois_negative_alter, display_mode=\"x\", output_file=\"/home/usuario/disco1/proyectos/2023-resting-state-estados-fMRI_conn/scripts/figuras-finales/conectividad-rois/figuras/altered_negative_x.eps\")"
   ]
  },
  {
   "cell_type": "code",
   "execution_count": null,
   "metadata": {},
   "outputs": [],
   "source": [
    "plot_rois(rois_negative_alter, display_mode=\"y\", output_file=\"/home/usuario/disco1/proyectos/2023-resting-state-estados-fMRI_conn/scripts/figuras-finales/conectividad-rois/figuras/altered_negative_y.eps\")"
   ]
  },
  {
   "cell_type": "markdown",
   "metadata": {},
   "source": [
    "#### Plot ROIs transicion"
   ]
  },
  {
   "cell_type": "code",
   "execution_count": null,
   "metadata": {},
   "outputs": [],
   "source": [
    "NODE_SIZE = 300\n",
    "fig, ax = plt.subplots(1, figsize=(8,8))\n",
    "plt.axis(\"off\")\n",
    "plotting.plot_connectome(\n",
    "    np.zeros((300, 300)),\n",
    "    coordinates,\n",
    "    edge_threshold=\"95%\",\n",
    "    node_color=\"#ffffff00\",\n",
    "    display_mode=\"z\",\n",
    "    node_size=1,\n",
    "    annotate=False,\n",
    "    figure=fig\n",
    ")\n",
    "\n",
    "plt.savefig(\"/home/usuario/disco1/proyectos/2023-resting-state-estados-fMRI_conn/scripts/figuras-finales/conectividad-rois/figuras/transition_positive_z.eps\")"
   ]
  },
  {
   "cell_type": "code",
   "execution_count": null,
   "metadata": {},
   "outputs": [],
   "source": [
    "NODE_SIZE = 300\n",
    "fig, ax = plt.subplots(1, figsize=(8,8))\n",
    "plt.axis(\"off\")\n",
    "plotting.plot_connectome(\n",
    "    np.zeros((300, 300)),\n",
    "    coordinates,\n",
    "    edge_threshold=\"95%\",\n",
    "    node_color=\"#ffffff00\",\n",
    "    display_mode=\"y\",\n",
    "    node_size=1,\n",
    "    annotate=False,\n",
    "    figure=fig\n",
    ")\n",
    "\n",
    "plt.savefig(\"/home/usuario/disco1/proyectos/2023-resting-state-estados-fMRI_conn/scripts/figuras-finales/conectividad-rois/figuras/transition_positive_y.eps\")"
   ]
  },
  {
   "cell_type": "code",
   "execution_count": null,
   "metadata": {},
   "outputs": [],
   "source": [
    "NODE_SIZE = 300\n",
    "fig, ax = plt.subplots(1, figsize=(8,8))\n",
    "plt.axis(\"off\")\n",
    "plotting.plot_connectome(\n",
    "    np.zeros((300, 300)),\n",
    "    coordinates,\n",
    "    edge_threshold=\"95%\",\n",
    "    node_color=\"#ffffff00\",\n",
    "    display_mode=\"x\",\n",
    "    node_size=1,\n",
    "    annotate=False,\n",
    "    figure=fig\n",
    ")\n",
    "\n",
    "plt.savefig(\"/home/usuario/disco1/proyectos/2023-resting-state-estados-fMRI_conn/scripts/figuras-finales/conectividad-rois/figuras/transition_positive_x.eps\")"
   ]
  },
  {
   "cell_type": "code",
   "execution_count": null,
   "metadata": {},
   "outputs": [],
   "source": [
    "plot_rois(rois_negative_trans, display_mode=\"z\", output_file=\"/home/usuario/disco1/proyectos/2023-resting-state-estados-fMRI_conn/scripts/figuras-finales/conectividad-rois/figuras/transition_negative_z.eps\")"
   ]
  },
  {
   "cell_type": "code",
   "execution_count": null,
   "metadata": {},
   "outputs": [],
   "source": [
    "plot_rois(rois_negative_trans, display_mode=\"y\", output_file=\"/home/usuario/disco1/proyectos/2023-resting-state-estados-fMRI_conn/scripts/figuras-finales/conectividad-rois/figuras/transition_negative_y.eps\")"
   ]
  },
  {
   "cell_type": "code",
   "execution_count": null,
   "metadata": {},
   "outputs": [],
   "source": [
    "plot_rois(rois_negative_trans, display_mode=\"x\", output_file=\"/home/usuario/disco1/proyectos/2023-resting-state-estados-fMRI_conn/scripts/figuras-finales/conectividad-rois/figuras/transition_negative_x.eps\")"
   ]
  },
  {
   "cell_type": "markdown",
   "metadata": {},
   "source": [
    "#### Plot ROIs recuperacion"
   ]
  },
  {
   "cell_type": "code",
   "execution_count": null,
   "metadata": {},
   "outputs": [],
   "source": [
    "plot_rois(rois_positive_recup, display_mode=\"z\", output_file=\"/home/usuario/disco1/proyectos/2023-resting-state-estados-fMRI_conn/scripts/figuras-finales/conectividad-rois/figuras/recuperacion_positive_z.eps\")"
   ]
  },
  {
   "cell_type": "code",
   "execution_count": null,
   "metadata": {},
   "outputs": [],
   "source": [
    "plot_rois(rois_positive_recup, display_mode=\"y\", output_file=\"/home/usuario/disco1/proyectos/2023-resting-state-estados-fMRI_conn/scripts/figuras-finales/conectividad-rois/figuras/recuperacion_positive_y.eps\")"
   ]
  },
  {
   "cell_type": "code",
   "execution_count": null,
   "metadata": {},
   "outputs": [],
   "source": [
    "plot_rois(rois_positive_recup, display_mode=\"x\", output_file=\"/home/usuario/disco1/proyectos/2023-resting-state-estados-fMRI_conn/scripts/figuras-finales/conectividad-rois/figuras/recuperacion_positive_x.eps\")"
   ]
  },
  {
   "cell_type": "code",
   "execution_count": null,
   "metadata": {},
   "outputs": [],
   "source": [
    "plot_rois(rois_negative_recup, display_mode=\"z\", output_file=\"/home/usuario/disco1/proyectos/2023-resting-state-estados-fMRI_conn/scripts/figuras-finales/conectividad-rois/figuras/recuperacion_negative_z.eps\")"
   ]
  },
  {
   "cell_type": "code",
   "execution_count": null,
   "metadata": {},
   "outputs": [],
   "source": [
    "plot_rois(rois_negative_recup, display_mode=\"y\", output_file=\"/home/usuario/disco1/proyectos/2023-resting-state-estados-fMRI_conn/scripts/figuras-finales/conectividad-rois/figuras/recuperacion_negative_y.eps\")"
   ]
  },
  {
   "cell_type": "code",
   "execution_count": null,
   "metadata": {},
   "outputs": [],
   "source": [
    "plot_rois(rois_negative_recup, display_mode=\"x\", output_file=\"/home/usuario/disco1/proyectos/2023-resting-state-estados-fMRI_conn/scripts/figuras-finales/conectividad-rois/figuras/recuperacion_negative_x.eps\")"
   ]
  }
 ],
 "metadata": {
  "kernelspec": {
   "display_name": "Python 3",
   "language": "python",
   "name": "python3"
  },
  "language_info": {
   "codemirror_mode": {
    "name": "ipython",
    "version": 3
   },
   "file_extension": ".py",
   "mimetype": "text/x-python",
   "name": "python",
   "nbconvert_exporter": "python",
   "pygments_lexer": "ipython3",
   "version": "3.8.10"
  }
 },
 "nbformat": 4,
 "nbformat_minor": 2
}
