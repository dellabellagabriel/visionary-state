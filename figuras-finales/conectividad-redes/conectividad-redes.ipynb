{
 "cells": [
  {
   "cell_type": "code",
   "execution_count": null,
   "metadata": {},
   "outputs": [],
   "source": [
    "import numpy as np\n",
    "import matplotlib.pyplot as plt\n",
    "import networkx as nx\n",
    "import pandas as pd\n",
    "import scipy.io as sio\n",
    "import statsmodels.api as sm\n",
    "import statsmodels.formula.api as smf\n",
    "from statsmodels.stats.multitest import fdrcorrection"
   ]
  },
  {
   "cell_type": "code",
   "execution_count": null,
   "metadata": {},
   "outputs": [],
   "source": [
    "colors_networks = np.array([\n",
    "    \"#FF0000\",  # Red DMN\n",
    "    \"#00FF00\",  # Green VIS\n",
    "    \"#0000FF\",  # Blue FP\n",
    "    \"#FFFF00\",  # Yellow Reward\n",
    "    \"#FF00FF\",  # Magenta DA\n",
    "    \"#000000\",  # nan\n",
    "    \"#00FFFF\",  # Cyan VA\n",
    "    \"#800080\",  # Purple SN\n",
    "    \"#FFA500\",  # Orange CO\n",
    "    \"#008000\",  # Dark Green SM Dorsal\n",
    "    \"#800000\",  # Maroon SM Lateral\n",
    "    \"#008080\",  # Teal AUD\n",
    "    \"#000000\",  # nan\n",
    "    \"#000000\",  # nan\n",
    "    \"#000080\",  # Navy ParietoMedial\n",
    "    \"#000000\",  # nan\n",
    "    \"#FFD700\",  # Gold Medial Temporal Lobe\n",
    "    \"#000000\",  # nan\n",
    "])\n",
    "\n",
    "func_network_affiliation = np.loadtxt(f\"{MAIN_DIR}/scripts/func_networks/masks/ROIs_300inVol_MNI/ROIs_CommunityAffiliation.txt\").astype(int)\n",
    "func_network_unique_list = np.unique(func_network_affiliation)\n",
    "\n",
    "# colores para los grafos con ROIs\n",
    "node_colors = []\n",
    "for iRoi in range(300):\n",
    "    if func_network_affiliation[iRoi] == 2 or func_network_affiliation[iRoi] == 3 or func_network_affiliation[iRoi] == 5 or func_network_affiliation[iRoi] == 7 or func_network_affiliation[iRoi] == 10 or func_network_affiliation[iRoi] == 11:       \n",
    "        node_colors.append(colors_networks[func_network_affiliation[iRoi]-1])\n",
    "    else:\n",
    "        node_colors.append(\"#cccccc\")"
   ]
  },
  {
   "cell_type": "code",
   "execution_count": null,
   "metadata": {},
   "outputs": [],
   "source": [
    "def draw_graph(condition, minval, maxval, output_file):\n",
    "    NODE_SIZE = 9000\n",
    "    FONT_SIZE = 35\n",
    "    MIN_EDGE_WIDTH = 10\n",
    "    MAX_EDGE_WIDTH = 40\n",
    "\n",
    "    values = []\n",
    "    from_array = []\n",
    "    to_array = []\n",
    "    for i in range(len(network_list)):\n",
    "        for j in range(i+1, len(network_list)):\n",
    "            from_array.append(network_names[i])\n",
    "            to_array.append(network_names[j])\n",
    "            values.append(condition[i][j])\n",
    "\n",
    "    #print(len(from_array), len(to_array), len(values))\n",
    "    df = pd.DataFrame({\"from\": from_array, \"to\": to_array, \"value\": values})\n",
    "    G = nx.from_pandas_edgelist(df, \"from\", \"to\", create_using=nx.Graph())\n",
    "\n",
    "    values_positive = df[\"value\"][df[\"value\"] >= 0]\n",
    "    values_negative = df[\"value\"][df[\"value\"] < 0]\n",
    "\n",
    "    edge_list = list(map(lambda value: np.interp(value, [minval, maxval], [0, 1]), df[\"value\"]))\n",
    "    width_list = list(map(lambda value: np.interp(np.abs(value), [0, maxval], [MIN_EDGE_WIDTH, MAX_EDGE_WIDTH]), values))\n",
    "    alpha_list = list(map(lambda value: np.interp(np.abs(value), [0, maxval], [0.1, 1.0]), values))\n",
    "    \n",
    "    \n",
    "    colormap = plt.cm.get_cmap('RdBu_r')\n",
    "    fig, ax = plt.subplots(1, figsize=(10,10))\n",
    "    pos = nx.kamada_kawai_layout(G)\n",
    "    nodes = nx.draw_networkx_nodes(G, pos, node_size=NODE_SIZE, node_color='black')\n",
    "    nx.draw_networkx_labels(G, pos, font_color=\"white\", font_size=FONT_SIZE, font_weight=\"bold\")\n",
    "\n",
    "    for i, edge in enumerate(G.edges()):\n",
    "        nx.draw_networkx_edges(G, pos, edgelist=[edge], alpha=alpha_list[i], width=width_list[i], edge_color=colormap(edge_list[i]))\n",
    "\n",
    "    ax.set_facecolor('#ffffff')\n",
    "    ax.axis('off')\n",
    "    fig.set_facecolor('#ffffff')\n",
    "    \n",
    "    plt.tight_layout()\n",
    "    plt.savefig(output_file)\n",
    "\n",
    "def draw_roi_graph(cr, size=(8,8), output_file=\"\"):\n",
    "    plt.subplots(1, figsize=size)\n",
    "\n",
    "    c = cr.mean(axis=0)\n",
    "    c[np.eye(300).astype(bool)] = 0\n",
    "    G = nx.from_numpy_array(c > np.percentile(c, 99))\n",
    "    pos = nx.kamada_kawai_layout(G)\n",
    "    nx.draw(G, pos, edge_color=\"#888888\", node_color=node_colors, node_size=150)\n",
    "\n",
    "    plt.savefig(output_file)"
   ]
  },
  {
   "cell_type": "code",
   "execution_count": null,
   "metadata": {},
   "outputs": [],
   "source": [
    "MAIN_DIR = \"/home/usuario/disco1/proyectos/2023-resting-state-estados-fMRI_conn\"\n",
    "network_names = [\"DMN\", \"VIS\", \"FP\", \"Rew\", \"DA\", \"VA\", \"SN\", \"CO\", \"SMD\", \"SML\", \"AUD\", \"PM\", \"MTL\", \"un\"]\n",
    "network_list = list(range(13))\n",
    "min_val = -0.15\n",
    "max_val = 0.15\n",
    "\n",
    "connectivity = sio.loadmat(f\"{MAIN_DIR}/results/connectivity/300/connectivity_2.mat\")[\"C_net_2\"]\n",
    "\n",
    "transicion_diff_conn = np.mean(connectivity[:,1,:,:]-connectivity[:,0,:,:], axis=0)[network_list][:,network_list]\n",
    "alteracion_diff_conn = np.mean(connectivity[:,2,:,:]-connectivity[:,0,:,:], axis=0)[network_list][:,network_list]\n",
    "recuperacion_diff_conn = np.mean(connectivity[:,3,:,:]-connectivity[:,0,:,:], axis=0)[network_list][:,network_list]"
   ]
  },
  {
   "cell_type": "code",
   "execution_count": null,
   "metadata": {},
   "outputs": [],
   "source": [
    "connectivity_regions = sio.loadmat(f\"{MAIN_DIR}/results/connectivity/300/connectivity_300.mat\")[\"C\"]\n",
    "\n",
    "connectivity_per_network = connectivity.mean(axis=3)\n",
    "connectivity_per_network_trans = connectivity_per_network[:,1,:] - connectivity_per_network[:,0,:]\n",
    "connectivity_per_network_alter = connectivity_per_network[:,2,:] - connectivity_per_network[:,0,:]\n",
    "connectivity_per_network_recup = connectivity_per_network[:,3,:] - connectivity_per_network[:,0,:]\n",
    "\n",
    "def calculate_statistics_network(condicion):\n",
    "    if condicion == \"trans\":\n",
    "        connectivity_per_network = connectivity_per_network_trans\n",
    "    if condicion == \"alter\":\n",
    "        connectivity_per_network = connectivity_per_network_alter\n",
    "    if condicion == \"recup\":\n",
    "        connectivity_per_network = connectivity_per_network_recup\n",
    "\n",
    "    data = {\"sesion\": [], \"network\": [], \"diff\": []}\n",
    "    for iSess in range(20):\n",
    "        for iNetwork in range(13):\n",
    "            data[\"sesion\"].append(iSess+1)\n",
    "            data[\"network\"].append(iNetwork+1)\n",
    "            data[\"diff\"].append(connectivity_per_network[iSess, iNetwork])\n",
    "\n",
    "    df = pd.DataFrame(data)\n",
    "    df['network'] = df['network'].astype('category')\n",
    "    df['sesion'] = df['sesion'].astype('category')\n",
    "\n",
    "    md = smf.mixedlm(\"diff ~ network - 1\", df, groups=df[\"sesion\"])\n",
    "    mdf = md.fit()\n",
    "    mdf.summary()\n",
    "\n",
    "    #h, pcorregido = fdrcorrection(mdf.pvalues[:-1].values, alpha=0.05, method=\"indep\", is_sorted=False)\n",
    "    #return mdf.pvalues[:-1][h]\n",
    "\n",
    "    return mdf.pvalues[:-1][mdf.pvalues[:-1] < 0.05]"
   ]
  },
  {
   "cell_type": "code",
   "execution_count": null,
   "metadata": {},
   "outputs": [],
   "source": [
    "print(calculate_statistics_network(\"trans\"))\n",
    "print(calculate_statistics_network(\"alter\"))\n",
    "print(calculate_statistics_network(\"recup\"))"
   ]
  },
  {
   "cell_type": "markdown",
   "metadata": {},
   "source": [
    "#### Figura grafos"
   ]
  },
  {
   "cell_type": "code",
   "execution_count": null,
   "metadata": {},
   "outputs": [],
   "source": [
    "draw_graph(transicion_diff_conn, min_val, max_val, output_file=f\"{MAIN_DIR}/scripts/figuras-finales/conectividad-redes/figuras/grafo_transicion.png\")"
   ]
  },
  {
   "cell_type": "code",
   "execution_count": null,
   "metadata": {},
   "outputs": [],
   "source": [
    "draw_graph(alteracion_diff_conn, min_val, max_val, output_file=f\"{MAIN_DIR}/scripts/figuras-finales/conectividad-redes/figuras/grafo_alteracion.png\")"
   ]
  },
  {
   "cell_type": "code",
   "execution_count": null,
   "metadata": {},
   "outputs": [],
   "source": [
    "draw_graph(recuperacion_diff_conn, min_val, max_val, output_file=f\"{MAIN_DIR}/scripts/figuras-finales/conectividad-redes/figuras/grafo_recuperacion.png\")"
   ]
  },
  {
   "cell_type": "code",
   "execution_count": null,
   "metadata": {},
   "outputs": [],
   "source": [
    "plt.subplots(1, figsize=(8,8))\n",
    "plt.imshow(np.random.rand(10,10), cmap=\"RdBu_r\", vmin=-0.15, vmax=0.15)\n",
    "plt.colorbar()\n",
    "\n",
    "plt.savefig(\"/home/usuario/disco1/proyectos/2023-resting-state-estados-fMRI_conn/scripts/figuras-finales/conectividad-redes/figuras/colorbar.png\")"
   ]
  },
  {
   "cell_type": "code",
   "execution_count": null,
   "metadata": {},
   "outputs": [],
   "source": [
    "draw_roi_graph(connectivity_regions[:,0,:,:], size=(8,8), output_file=\"/home/usuario/disco1/proyectos/2023-resting-state-estados-fMRI_conn/scripts/figuras-finales/conectividad-redes/figuras/grafo_roi_reposo.png\")"
   ]
  },
  {
   "cell_type": "code",
   "execution_count": null,
   "metadata": {},
   "outputs": [],
   "source": [
    "draw_roi_graph(connectivity_regions[:,1,:,:], size=(10,8), output_file=\"/home/usuario/disco1/proyectos/2023-resting-state-estados-fMRI_conn/scripts/figuras-finales/conectividad-redes/figuras/grafo_roi_transicion.png\")"
   ]
  },
  {
   "cell_type": "code",
   "execution_count": null,
   "metadata": {},
   "outputs": [],
   "source": [
    "draw_roi_graph(connectivity_regions[:,2,:,:], size=(14,8), output_file=\"/home/usuario/disco1/proyectos/2023-resting-state-estados-fMRI_conn/scripts/figuras-finales/conectividad-redes/figuras/grafo_roi_alteracion.png\")"
   ]
  },
  {
   "cell_type": "code",
   "execution_count": null,
   "metadata": {},
   "outputs": [],
   "source": [
    "draw_roi_graph(connectivity_regions[:,3,:,:], size=(10,8), output_file=\"/home/usuario/disco1/proyectos/2023-resting-state-estados-fMRI_conn/scripts/figuras-finales/conectividad-redes/figuras/grafo_roi_recuperacion.png\")"
   ]
  }
 ],
 "metadata": {
  "kernelspec": {
   "display_name": "Python 3",
   "language": "python",
   "name": "python3"
  },
  "language_info": {
   "codemirror_mode": {
    "name": "ipython",
    "version": 3
   },
   "file_extension": ".py",
   "mimetype": "text/x-python",
   "name": "python",
   "nbconvert_exporter": "python",
   "pygments_lexer": "ipython3",
   "version": "3.8.10"
  }
 },
 "nbformat": 4,
 "nbformat_minor": 2
}
