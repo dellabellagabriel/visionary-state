{
 "cells": [
  {
   "cell_type": "code",
   "execution_count": null,
   "metadata": {},
   "outputs": [],
   "source": [
    "from nilearn import plotting\n",
    "import numpy as np\n",
    "import matplotlib.pyplot as plt\n",
    "from scipy.signal import savgol_filter\n",
    "import scipy.io as sio\n",
    "import networkx as nx"
   ]
  },
  {
   "cell_type": "code",
   "execution_count": null,
   "metadata": {},
   "outputs": [],
   "source": [
    "colors_networks = np.array([\n",
    "    \"#FF0000\",  # Red DMN\n",
    "    \"#00FF00\",  # Green VIS\n",
    "    \"#0000FF\",  # Blue FP\n",
    "    \"#FFFF00\",  # Yellow Reward\n",
    "    \"#FF00FF\",  # Magenta DA\n",
    "    \"#000000\",  # nan\n",
    "    \"#00FFFF\",  # Cyan VA\n",
    "    \"#800080\",  # Purple SN\n",
    "    \"#FFA500\",  # Orange CO\n",
    "    \"#008000\",  # Dark Green SM Dorsal\n",
    "    \"#800000\",  # Maroon SM Lateral\n",
    "    \"#008080\",  # Teal AUD\n",
    "    \"#000000\",  # nan\n",
    "    \"#000000\",  # nan\n",
    "    \"#000080\",  # Navy ParietoMedial\n",
    "    \"#000000\",  # nan\n",
    "    \"#FFD700\",  # Gold Medial Temporal Lobe\n",
    "    \"#000000\",  # nan\n",
    "])"
   ]
  },
  {
   "cell_type": "code",
   "execution_count": null,
   "metadata": {},
   "outputs": [],
   "source": [
    "coordinates = np.loadtxt(\"/home/usuario/disco1/proyectos/2023-resting-state-estados-fMRI_conn/scripts/func_networks/masks/ROIs_300inVol_MNI/coords_300.csv\", delimiter=\",\", dtype=float)\n",
    "func_network_affiliation = np.loadtxt(\"/home/usuario/disco1/proyectos/2023-resting-state-estados-fMRI_conn/scripts/func_networks/masks/ROIs_300inVol_MNI/ROIs_CommunityAffiliation.txt\").astype(int)\n",
    "\n",
    "colors = np.zeros((300, 4))\n",
    "z_min, z_max = coordinates[:,2].min(), coordinates[:,2].max()\n",
    "for i, (x, y, z) in enumerate(coordinates):\n",
    "    alpha = (z+52.0)/(52.0+74.98)\n",
    "    hex_color = colors_networks[func_network_affiliation[i]-1].lstrip(\"#\")\n",
    "    r,g,b = tuple(int(hex_color[i:i+2], 16)/255 for i in (0, 2, 4))\n",
    "    colors[i, :] = [r,g,b,alpha]"
   ]
  },
  {
   "cell_type": "code",
   "execution_count": null,
   "metadata": {},
   "outputs": [],
   "source": [
    "#fig = plt.figure(figsize=(10, 10))\n",
    "plotting.plot_connectome(\n",
    "    np.zeros((300, 300)),\n",
    "    coordinates,\n",
    "    edge_threshold=\"95%\",\n",
    "    node_color=\"#888888\",\n",
    "    node_size=24,\n",
    "    title=f\"\",\n",
    "    display_mode=\"z\",\n",
    "    annotate=False,\n",
    "    edge_kwargs={\"linewidth\": 100},\n",
    "    #figure=fig\n",
    ")\n",
    "\n",
    "plt.savefig(\"figuras/roi300_negro.eps\")"
   ]
  },
  {
   "cell_type": "code",
   "execution_count": null,
   "metadata": {},
   "outputs": [],
   "source": [
    "np.random.seed(40)\n",
    "y = np.random.rand(350)\n",
    "y_smooth = savgol_filter(y, 20, 2)\n",
    "fig, ax = plt.subplots(1, figsize=(20, 5))\n",
    "ax.plot(y_smooth, linewidth=15, c=\"black\")\n",
    "ax.set_ylim([0, 1])\n",
    "plt.axis('off')\n",
    "\n",
    "plt.savefig(\"figuras/timeseries.png\")"
   ]
  },
  {
   "cell_type": "code",
   "execution_count": null,
   "metadata": {},
   "outputs": [],
   "source": [
    "MAIN_DIR = \"/home/usuario/disco1/proyectos/2023-resting-state-estados-fMRI_conn\"\n",
    "\n",
    "connectivity_regions = sio.loadmat(f\"{MAIN_DIR}/results/connectivity/300/connectivity_300.mat\")[\"C\"]\n",
    "\n",
    "c = connectivity_regions[1,1,:,:]\n",
    "\n",
    "fig, ax = plt.subplots(1, figsize=(8,8))\n",
    "ax.imshow(c, cmap=\"turbo\")\n",
    "plt.axis(\"off\")\n",
    "\n",
    "plt.savefig(\"matriz.png\")"
   ]
  },
  {
   "cell_type": "code",
   "execution_count": null,
   "metadata": {},
   "outputs": [],
   "source": [
    "MAIN_DIR = \"/home/usuario/disco1/proyectos/2023-resting-state-estados-fMRI_conn\"\n",
    "\n",
    "connectivity_regions = sio.loadmat(f\"{MAIN_DIR}/results/connectivity/300/connectivity_300.mat\")[\"C\"]\n",
    "\n",
    "func_network_affiliation_clean = func_network_affiliation[12:].copy()\n",
    "func_network_affiliation_clean[140:] = 42\n",
    "\n",
    "c = connectivity_regions[3,2,12:,12:].copy()\n",
    "rois_in_network = func_network_affiliation_clean == 1\n",
    "c[~rois_in_network, :] = -10\n",
    "c[:, ~rois_in_network] = -10\n",
    "\n",
    "fig, ax = plt.subplots(1, figsize=(8,8))\n",
    "ax.imshow(c, cmap=\"turbo\", vmin=-1, vmax=1)\n",
    "plt.axis(\"off\")\n",
    "\n",
    "plt.savefig(\"figuras/matriz-intra.png\")"
   ]
  },
  {
   "cell_type": "code",
   "execution_count": null,
   "metadata": {},
   "outputs": [],
   "source": [
    "c = connectivity_regions[3,2,12:,12:]\n",
    "func_network_affiliation_clean = func_network_affiliation[12:]\n",
    "a = func_network_affiliation_clean == 10\n",
    "index = np.where(a)[0]\n",
    "\n",
    "plt.imshow(c[index,:][:,index])"
   ]
  },
  {
   "cell_type": "code",
   "execution_count": null,
   "metadata": {},
   "outputs": [],
   "source": [
    "MAIN_DIR = \"/home/usuario/disco1/proyectos/2023-resting-state-estados-fMRI_conn\"\n",
    "\n",
    "connectivity_regions = sio.loadmat(f\"{MAIN_DIR}/results/connectivity/300/connectivity_300.mat\")[\"C\"]\n",
    "\n",
    "c = connectivity_regions[3,2,12:,12:]\n",
    "\n",
    "z = np.ones((288, 288))*(-10)\n",
    "for i in range(288):\n",
    "    for j in range(288):\n",
    "        if func_network_affiliation[i] == 1 and func_network_affiliation[j] != 1:\n",
    "            z[i,j] = c[i,j]\n",
    "        if func_network_affiliation[i] != 1 and func_network_affiliation[j] == 1:\n",
    "            z[i,j] = c[i,j]    \n",
    "\n",
    "fig, ax = plt.subplots(1, figsize=(8,8))\n",
    "ax.imshow(z, cmap=\"turbo\", vmin=-1, vmax=1)\n",
    "plt.axis(\"off\")\n",
    "\n",
    "plt.savefig(\"figuras/matriz-inter.png\")"
   ]
  },
  {
   "cell_type": "code",
   "execution_count": null,
   "metadata": {},
   "outputs": [],
   "source": [
    "MAIN_DIR = \"/home/usuario/disco1/proyectos/2023-resting-state-estados-fMRI_conn\"\n",
    "\n",
    "connectivity_regions = sio.loadmat(f\"{MAIN_DIR}/results/connectivity/300/connectivity_300.mat\")[\"C\"]\n",
    "\n",
    "c = connectivity_regions[3,2,12:,12:]\n",
    "\n",
    "fig, ax = plt.subplots(1, figsize=(8,8))\n",
    "ax.imshow(c, cmap=\"gray\", vmin=-1, vmax=1)\n",
    "plt.axis(\"off\")\n",
    "\n",
    "plt.savefig(\"figuras/matriz-gris.png\")"
   ]
  },
  {
   "cell_type": "code",
   "execution_count": null,
   "metadata": {},
   "outputs": [],
   "source": [
    "import matplotlib.cm as cm\n",
    "import matplotlib\n",
    "\n",
    "norm = matplotlib.colors.Normalize(vmin=0, vmax=1.3, clip=True)\n",
    "mapper = cm.ScalarMappable(norm=norm, cmap=cm.plasma)\n",
    "\n",
    "fig, ax = plt.subplots(1, figsize=(8,8))\n",
    "x = np.arange(0, 1, 0.01)\n",
    "ax.scatter(x, -(1.5*x-0.75)**2 + 0.75, s=100, c=list(map(lambda x: mapper.to_rgba(x), x)))\n",
    "ax.spines[['right', 'top']].set_visible(False)\n",
    "plt.setp(ax.spines.values(), linewidth=5)\n",
    "ax.set_ylim([0, 1])\n",
    "ax.set_xticks([0], \"\")\n",
    "ax.set_yticks([0], \"\")\n",
    "\n",
    "plt.rcParams.update({'font.size': 30})\n",
    "plt.tight_layout()\n",
    "plt.savefig(\"figuras/medialuna.png\")"
   ]
  }
 ],
 "metadata": {
  "kernelspec": {
   "display_name": "Python 3",
   "language": "python",
   "name": "python3"
  },
  "language_info": {
   "codemirror_mode": {
    "name": "ipython",
    "version": 3
   },
   "file_extension": ".py",
   "mimetype": "text/x-python",
   "name": "python",
   "nbconvert_exporter": "python",
   "pygments_lexer": "ipython3",
   "version": "3.8.10"
  }
 },
 "nbformat": 4,
 "nbformat_minor": 2
}
